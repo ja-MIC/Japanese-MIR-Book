{
 "cells": [
  {
   "cell_type": "markdown",
   "metadata": {},
   "source": [
    "# プロジェクション層\n",
    "\n",
    "プロジェクション（Projection）層は、DNNの中間においてデータ変換を行う層です。フロントエンド層と同じような構造が使われる場合もあります。\n",
    "\n",
    "本セクションはチュートリアル[Deep Learning 101 for Audio-based MIR](https://geoffroypeeters.github.io/deeplearning-101-audiomir_book/bricks_projection.html)の内容に基づいています。"
   ]
  },
  {
   "cell_type": "markdown",
   "metadata": {},
   "source": [
    "## 全連結層\n",
    "\n",
    "全連結（Fully-Connected）層は、Multi-Layer-Perceptron（MLP）やFeed-Forward（FF）構造の核心となる部品です。\n",
    "\n",
    "`nn.Linear`のほかに、カーネルサイズ１の畳み込み層で実装する方法もあります。\n"
   ]
  },
  {
   "cell_type": "code",
   "execution_count": 1,
   "metadata": {},
   "outputs": [
    {
     "name": "stdout",
     "output_type": "stream",
     "text": [
      "Shape of output tensor from Linear layer:  torch.Size([8, 256])\n",
      "Shape of output tensor from Conv1d layer:  torch.Size([8, 256, 1])\n"
     ]
    }
   ],
   "source": [
    "import torch\n",
    "\n",
    "input_tensor = torch.randn(8, 128)\n",
    "fc_layer = torch.nn.Linear(in_features=128, out_features=256)\n",
    "fc_conv_layer = torch.nn.Conv1d(in_channels=128, out_channels=256, kernel_size=1)\n",
    "\n",
    "output_tensor = fc_layer(input_tensor)\n",
    "output_tensor_conv = fc_conv_layer(input_tensor.unsqueeze(2))\n",
    "\n",
    "print(\"Shape of output tensor from Linear layer: \", output_tensor.shape)\n",
    "print(\"Shape of output tensor from Conv1d layer: \", output_tensor_conv.shape)"
   ]
  },
  {
   "cell_type": "markdown",
   "metadata": {},
   "source": [
    "## ResNet\n",
    "\n",
    "「**残差連結（residual/skip connection）**」を持つネットワーク構造。「入力から出力への変換」ではなく「入力と出力の差分」を学習する構造にすることで、層数が大きいニューラルネットの学習が劇的に容易になります。実装も極めて容易（入・出力を足し合わせるだけ）で、今ではTransformer始め多くの深層ニューラルネットに採用されている定番構造です。"
   ]
  },
  {
   "cell_type": "code",
   "execution_count": 2,
   "metadata": {},
   "outputs": [
    {
     "name": "stdout",
     "output_type": "stream",
     "text": [
      "Shape of output tensor from Residual block:  torch.Size([8, 128, 256])\n"
     ]
    }
   ],
   "source": [
    "class ResidualBlock(torch.nn.Module):\n",
    "    def __init__(self, channels, kernel_size=3, stride=1, padding=1):\n",
    "        super().__init__()\n",
    "        self.conv1 = torch.nn.Conv1d(channels, channels, kernel_size, stride, padding)\n",
    "        self.bn1 = torch.nn.BatchNorm1d(channels)\n",
    "        self.relu = torch.nn.ReLU()\n",
    "        self.conv2 = torch.nn.Conv1d(channels, channels, kernel_size, stride, padding)\n",
    "        self.bn2 = torch.nn.BatchNorm1d(channels)\n",
    "        \n",
    "    def forward(self, x):\n",
    "        residual = x\n",
    "        out = self.conv1(x)\n",
    "        out = self.bn1(out)\n",
    "        out = self.relu(out)\n",
    "        out = self.conv2(out)\n",
    "        out = self.bn2(out)\n",
    "        out += residual\n",
    "        out = self.relu(out)\n",
    "        return out\n",
    "\n",
    "\n",
    "residual_block = ResidualBlock(channels = 128)\n",
    "\n",
    "input_tensor = torch.randn(8, 128, 256)\n",
    "output_tensor = residual_block(input_tensor)\n",
    "print(\"Shape of output tensor from Residual block: \", output_tensor.shape)"
   ]
  }
 ],
 "metadata": {
  "kernelspec": {
   "display_name": "jupyterbook",
   "language": "python",
   "name": "python3"
  },
  "language_info": {
   "codemirror_mode": {
    "name": "ipython",
    "version": 3
   },
   "file_extension": ".py",
   "mimetype": "text/x-python",
   "name": "python",
   "nbconvert_exporter": "python",
   "pygments_lexer": "ipython3",
   "version": "3.11.11"
  }
 },
 "nbformat": 4,
 "nbformat_minor": 2
}
