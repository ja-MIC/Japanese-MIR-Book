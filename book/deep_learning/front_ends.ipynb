{
 "cells": [
  {
   "cell_type": "markdown",
   "metadata": {},
   "source": [
    "# フロントエンド層\n",
    "\n",
    "フロントエンド（Front-end）層は、DNNにおいて入力データ（波形やスペクトログラムなど）を処理する最初の層です。"
   ]
  },
  {
   "cell_type": "markdown",
   "metadata": {},
   "source": [
    "## 1D畳み込み層"
   ]
  },
  {
   "cell_type": "code",
   "execution_count": 1,
   "metadata": {},
   "outputs": [
    {
     "name": "stdout",
     "output_type": "stream",
     "text": [
      "入力： torch.Size([1, 2, 3120768])\n",
      "出力： torch.Size([1, 32, 3120768])\n"
     ]
    }
   ],
   "source": [
    "import torch\n",
    "import torchaudio\n",
    "\n",
    "wav, sr = torchaudio.load(\"assets/example1.ogg\")\n",
    "wav = wav.unsqueeze(0)\n",
    "print('入力：', wav.shape)\n",
    "\n",
    "conv_1d = torch.nn.Conv1d(\n",
    "    in_channels=2,\n",
    "    out_channels=32,\n",
    "    kernel_size=5,\n",
    "    stride=1,\n",
    "    padding=2,  # stride=1, padding=(kernel_size - 1) // 2　にすれば、出力サイズが入力サイズと同じになる\n",
    "    dilation=1,\n",
    "    groups=1,\n",
    ")\n",
    "out = conv_1d(wav)\n",
    "print('出力：', out.shape)\n",
    "\n"
   ]
  },
  {
   "cell_type": "markdown",
   "metadata": {},
   "source": [
    "## Dilated-Conv-1D "
   ]
  },
  {
   "cell_type": "markdown",
   "metadata": {},
   "source": [
    "## SincNetのフロントエンド層"
   ]
  }
 ],
 "metadata": {
  "kernelspec": {
   "display_name": "jupyterbook",
   "language": "python",
   "name": "python3"
  },
  "language_info": {
   "codemirror_mode": {
    "name": "ipython",
    "version": 3
   },
   "file_extension": ".py",
   "mimetype": "text/x-python",
   "name": "python",
   "nbconvert_exporter": "python",
   "pygments_lexer": "ipython3",
   "version": "3.11.11"
  }
 },
 "nbformat": 4,
 "nbformat_minor": 2
}
